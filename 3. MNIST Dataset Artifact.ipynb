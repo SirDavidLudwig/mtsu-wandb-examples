{
 "cells": [
  {
   "cell_type": "markdown",
   "id": "6c5672f4-cb0c-42f7-b039-88556858ac43",
   "metadata": {},
   "source": [
    "# MNIST Dataset Artifact\n",
    "\n",
    "This notebook constructs a W&B artifact of the pre-processed, normalized MNIST dataset."
   ]
  },
  {
   "cell_type": "code",
   "execution_count": 1,
   "id": "979e663d-d327-4df7-a353-a9e5b54a8b90",
   "metadata": {},
   "outputs": [
    {
     "name": "stderr",
     "output_type": "stream",
     "text": [
      "2023-02-14 16:56:50.278578: I tensorflow/core/platform/cpu_feature_guard.cc:193] This TensorFlow binary is optimized with oneAPI Deep Neural Network Library (oneDNN) to use the following CPU instructions in performance-critical operations:  SSE4.1 SSE4.2 AVX AVX2 FMA\n",
      "To enable them in other operations, rebuild TensorFlow with the appropriate compiler flags.\n"
     ]
    }
   ],
   "source": [
    "import matplotlib.pyplot as plt\n",
    "import numpy as np\n",
    "import os\n",
    "import tensorflow as tf\n",
    "import wandb"
   ]
  },
  {
   "cell_type": "code",
   "execution_count": 2,
   "id": "c84adc4a-a59b-49b4-8f4c-97fd513f17f5",
   "metadata": {},
   "outputs": [],
   "source": [
    "config = dict(\n",
    "    scaling_method = \"normalize\",\n",
    "    # scaling_method = \"standardize\",\n",
    ")"
   ]
  },
  {
   "cell_type": "code",
   "execution_count": 3,
   "id": "6320da91-d89f-4e86-a7c2-c22c0554bc24",
   "metadata": {},
   "outputs": [
    {
     "name": "stderr",
     "output_type": "stream",
     "text": [
      "Failed to detect the name of this notebook, you can set it manually with the WANDB_NOTEBOOK_NAME environment variable to enable code saving.\n",
      "\u001b[34m\u001b[1mwandb\u001b[0m: Currently logged in as: \u001b[33mdwl2x\u001b[0m. Use \u001b[1m`wandb login --relogin`\u001b[0m to force relogin\n"
     ]
    },
    {
     "data": {
      "text/html": [
       "Tracking run with wandb version 0.13.10"
      ],
      "text/plain": [
       "<IPython.core.display.HTML object>"
      ]
     },
     "metadata": {},
     "output_type": "display_data"
    },
    {
     "data": {
      "text/html": [
       "Run data is saved locally in <code>/home/dwl2x/Research/Seminar/wandb/run-20230214_165653-y6mcy33w</code>"
      ],
      "text/plain": [
       "<IPython.core.display.HTML object>"
      ]
     },
     "metadata": {},
     "output_type": "display_data"
    },
    {
     "data": {
      "text/html": [
       "Syncing run <strong><a href='https://wandb.ai/dwl2x/mnist_dataset/runs/y6mcy33w' target=\"_blank\">attentive-caress-10</a></strong> to <a href='https://wandb.ai/dwl2x/mnist_dataset' target=\"_blank\">Weights & Biases</a> (<a href='https://wandb.me/run' target=\"_blank\">docs</a>)<br/>"
      ],
      "text/plain": [
       "<IPython.core.display.HTML object>"
      ]
     },
     "metadata": {},
     "output_type": "display_data"
    },
    {
     "data": {
      "text/html": [
       " View project at <a href='https://wandb.ai/dwl2x/mnist_dataset' target=\"_blank\">https://wandb.ai/dwl2x/mnist_dataset</a>"
      ],
      "text/plain": [
       "<IPython.core.display.HTML object>"
      ]
     },
     "metadata": {},
     "output_type": "display_data"
    },
    {
     "data": {
      "text/html": [
       " View run at <a href='https://wandb.ai/dwl2x/mnist_dataset/runs/y6mcy33w' target=\"_blank\">https://wandb.ai/dwl2x/mnist_dataset/runs/y6mcy33w</a>"
      ],
      "text/plain": [
       "<IPython.core.display.HTML object>"
      ]
     },
     "metadata": {},
     "output_type": "display_data"
    }
   ],
   "source": [
    "run = wandb.init(project=\"mnist_dataset\", config=config)"
   ]
  },
  {
   "cell_type": "markdown",
   "id": "4d1e2d83-5f47-420c-a072-0329ce784b5b",
   "metadata": {},
   "source": [
    "---\n",
    "## Load the dataset"
   ]
  },
  {
   "cell_type": "code",
   "execution_count": 4,
   "id": "4b83ff4a-4fec-45da-b5d0-17bde771265c",
   "metadata": {},
   "outputs": [],
   "source": [
    "(x_train, y_train), _ = tf.keras.datasets.mnist.load_data()"
   ]
  },
  {
   "cell_type": "code",
   "execution_count": 5,
   "id": "c8f5dd6e-bee6-4699-a964-793dc6f94874",
   "metadata": {},
   "outputs": [
    {
     "data": {
      "text/plain": [
       "(60000, 28, 28)"
      ]
     },
     "execution_count": 5,
     "metadata": {},
     "output_type": "execute_result"
    }
   ],
   "source": [
    "original_shape = x_train.shape\n",
    "original_shape"
   ]
  },
  {
   "cell_type": "code",
   "execution_count": 6,
   "id": "60612c38-2e50-42f6-913c-18fa4973be5e",
   "metadata": {},
   "outputs": [
    {
     "data": {
      "image/png": "[encoded data removed]",
      "text/plain": [
       "<Figure size 700x500 with 5 Axes>"
      ]
     },
     "metadata": {},
     "output_type": "display_data"
    }
   ],
   "source": [
    "plt.figure(figsize=(7, 5))\n",
    "for i in range(5):\n",
    "    plt.subplot(1, 5, i+1)\n",
    "    plt.imshow(x_train[i], cmap=\"gray\")\n",
    "    plt.axis(\"off\")\n",
    "plt.show()"
   ]
  },
  {
   "cell_type": "markdown",
   "id": "f3f83e0c-45d8-4001-a907-797ddba5fcc3",
   "metadata": {},
   "source": [
    "---\n",
    "## Data Exploration"
   ]
  },
  {
   "cell_type": "code",
   "execution_count": 7,
   "id": "7c2ed3c6-375e-4ead-b789-e421aa1d7e07",
   "metadata": {},
   "outputs": [],
   "source": [
    "labels, counts = np.unique(y_train, return_counts=True)"
   ]
  },
  {
   "cell_type": "code",
   "execution_count": 8,
   "id": "16647577-a42a-41b0-b78c-82bfd4a14a44",
   "metadata": {},
   "outputs": [],
   "source": [
    "plt.title(\"Label Counts\")\n",
    "plt.bar(labels, counts)\n",
    "plt.xticks(labels)\n",
    "plt.xlabel(\"Count\")\n",
    "plt.ylabel(\"Digit\")\n",
    "wandb.log({ \"data_distribution\": plt })\n",
    "plt.show()"
   ]
  },
  {
   "cell_type": "markdown",
   "id": "7e34a178-8675-48f1-b022-2b618c8ed66c",
   "metadata": {},
   "source": [
    "---\n",
    "## Pre-processing"
   ]
  },
  {
   "cell_type": "markdown",
   "id": "642baf96-b930-4378-b1df-3393a49bb405",
   "metadata": {},
   "source": [
    "Reshape into 3 dimensional images"
   ]
  },
  {
   "cell_type": "code",
   "execution_count": 9,
   "id": "677efb29-1a3a-433b-bc9d-82629802a1a8",
   "metadata": {},
   "outputs": [],
   "source": [
    "# Apply data scaling\n",
    "x_train = x_train.astype(float)\n",
    "match config[\"scaling_method\"]:\n",
    "    case \"normalize\":\n",
    "        x_train -= np.min(x_train)\n",
    "        x_train = x_train / np.max(x_train)\n",
    "    case \"standardize\":\n",
    "        x_train -= np.mean(x_train)\n",
    "        x_train = x_train / np.std(x_train)\n",
    "    case _:\n",
    "        raise Exception(\"Unknown scaling method\")"
   ]
  },
  {
   "cell_type": "code",
   "execution_count": 10,
   "id": "94a348f6-291b-451c-9211-9491d517aab3",
   "metadata": {},
   "outputs": [
    {
     "data": {
      "text/plain": [
       "(60000, 28, 28, 1)"
      ]
     },
     "execution_count": 10,
     "metadata": {},
     "output_type": "execute_result"
    }
   ],
   "source": [
    "# Reshape to appropriate shape\n",
    "x_train = x_train.reshape(original_shape + (1,))\n",
    "x_train.shape"
   ]
  },
  {
   "cell_type": "markdown",
   "id": "a8ed48cd-5fd4-4eb2-8173-b5f95d200bf5",
   "metadata": {},
   "source": [
    "---\n",
    "## Log Artifact"
   ]
  },
  {
   "cell_type": "code",
   "execution_count": 11,
   "id": "9827e994-960b-4594-bc96-2bcefc304ff5",
   "metadata": {},
   "outputs": [],
   "source": [
    "save_path = os.path.join(run.dir, \"mnist.npz\")"
   ]
  },
  {
   "cell_type": "code",
   "execution_count": 12,
   "id": "9a15f31b-3b23-44f3-afe1-2440cc15b3c6",
   "metadata": {},
   "outputs": [
    {
     "name": "stderr",
     "output_type": "stream",
     "text": [
      "Exception in thread SystemMonitor:\n",
      "Traceback (most recent call last):\n",
      "  File \"/opt/conda/lib/python3.10/threading.py\", line 1016, in _bootstrap_inner\n",
      "    self.run()\n",
      "  File \"/opt/conda/lib/python3.10/threading.py\", line 953, in run\n",
      "    self._target(*self._args, **self._kwargs)\n",
      "  File \"/opt/conda/lib/python3.10/site-packages/wandb/sdk/internal/system/system_monitor.py\", line 118, in _start\n",
      "    asset.start()\n",
      "  File \"/opt/conda/lib/python3.10/site-packages/wandb/sdk/internal/system/assets/cpu.py\", line 166, in start\n",
      "    self.metrics_monitor.start()\n",
      "  File \"/opt/conda/lib/python3.10/site-packages/wandb/sdk/internal/system/assets/interfaces.py\", line 168, in start\n",
      "    logger.info(f\"Started {self._process.name}\")\n",
      "AttributeError: 'NoneType' object has no attribute 'name'\n"
     ]
    }
   ],
   "source": [
    "np.savez_compressed(save_path, images=x_train, labels=y_train)"
   ]
  },
  {
   "cell_type": "code",
   "execution_count": 13,
   "id": "3e05d554-e207-482f-b856-0fa3cfa1f96b",
   "metadata": {},
   "outputs": [
    {
     "data": {
      "text/plain": [
       "<wandb.sdk.wandb_artifacts.Artifact at 0x7f19f1136770>"
      ]
     },
     "execution_count": 13,
     "metadata": {},
     "output_type": "execute_result"
    }
   ],
   "source": [
    "artifact = wandb.Artifact(\n",
    "    \"mnist\",\n",
    "    type=\"dataset\",\n",
    "    metadata={\n",
    "        \"scaling_method\": config[\"scaling_method\"]\n",
    "    }\n",
    ")\n",
    "artifact.add_file(save_path)\n",
    "run.log_artifact(artifact)"
   ]
  },
  {
   "cell_type": "code",
   "execution_count": 14,
   "id": "4e93f013-79ec-4993-84f3-e337d1a2ea83",
   "metadata": {},
   "outputs": [
    {
     "data": {
      "text/html": [
       "Waiting for W&B process to finish... <strong style=\"color:green\">(success).</strong>"
      ],
      "text/plain": [
       "<IPython.core.display.HTML object>"
      ]
     },
     "metadata": {},
     "output_type": "display_data"
    },
    {
     "data": {
      "text/html": [
       " View run <strong style=\"color:#cdcd00\">attentive-caress-10</strong> at: <a href='https://wandb.ai/dwl2x/mnist_dataset/runs/y6mcy33w' target=\"_blank\">https://wandb.ai/dwl2x/mnist_dataset/runs/y6mcy33w</a><br/>Synced 6 W&B file(s), 1 media file(s), 0 artifact file(s) and 1 other file(s)"
      ],
      "text/plain": [
       "<IPython.core.display.HTML object>"
      ]
     },
     "metadata": {},
     "output_type": "display_data"
    },
    {
     "data": {
      "text/html": [
       "Find logs at: <code>./wandb/run-20230214_165653-y6mcy33w/logs</code>"
      ],
      "text/plain": [
       "<IPython.core.display.HTML object>"
      ]
     },
     "metadata": {},
     "output_type": "display_data"
    }
   ],
   "source": [
    "run.finish()"
   ]
  },
  {
   "cell_type": "code",
   "execution_count": null,
   "id": "02c55d8b-faa5-4ede-a22b-6e7c1104cb6b",
   "metadata": {},
   "outputs": [],
   "source": []
  }
 ],
 "metadata": {
  "kernelspec": {
   "display_name": "Python 3 (ipykernel)",
   "language": "python",
   "name": "python3"
  },
  "language_info": {
   "codemirror_mode": {
    "name": "ipython",
    "version": 3
   },
   "file_extension": ".py",
   "mimetype": "text/x-python",
   "name": "python",
   "nbconvert_exporter": "python",
   "pygments_lexer": "ipython3",
   "version": "3.10.8"
  }
 },
 "nbformat": 4,
 "nbformat_minor": 5
}
