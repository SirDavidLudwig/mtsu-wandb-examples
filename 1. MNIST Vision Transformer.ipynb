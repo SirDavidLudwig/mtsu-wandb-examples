{
 "cells": [
  {
   "cell_type": "markdown",
   "id": "4aca7f8e-9804-4efc-9567-0f67bc547a08",
   "metadata": {},
   "source": [
    "# MNIST Vision Transformer"
   ]
  },
  {
   "cell_type": "code",
   "execution_count": 16,
   "id": "8127b3e6-4061-4351-963b-08f96d361a10",
   "metadata": {},
   "outputs": [],
   "source": [
    "import matplotlib.pyplot as plt\n",
    "import os\n",
    "import tensorflow as tf\n",
    "import wandb\n",
    "\n",
    "import common"
   ]
  },
  {
   "cell_type": "markdown",
   "id": "f7f3f4d7-1a0a-4d11-b25d-83ef5560f9b1",
   "metadata": {},
   "source": [
    "## Tensorflow Configuration\n",
    "\n",
    "Here we select the GPU we wish to use and enable dynamic memory allocation."
   ]
  },
  {
   "cell_type": "code",
   "execution_count": 2,
   "id": "46c43e83-1eec-4fd5-a9c0-d70d09234f4e",
   "metadata": {},
   "outputs": [
    {
     "name": "stderr",
     "output_type": "stream",
     "text": [
      "2023-02-13 23:49:43.380692: I tensorflow/stream_executor/cuda/cuda_gpu_executor.cc:980] successful NUMA node read from SysFS had negative value (-1), but there must be at least one NUMA node, so returning NUMA node zero\n",
      "2023-02-13 23:49:43.380927: I tensorflow/stream_executor/cuda/cuda_gpu_executor.cc:980] successful NUMA node read from SysFS had negative value (-1), but there must be at least one NUMA node, so returning NUMA node zero\n",
      "2023-02-13 23:49:43.386520: I tensorflow/stream_executor/cuda/cuda_gpu_executor.cc:980] successful NUMA node read from SysFS had negative value (-1), but there must be at least one NUMA node, so returning NUMA node zero\n",
      "2023-02-13 23:49:43.386742: I tensorflow/stream_executor/cuda/cuda_gpu_executor.cc:980] successful NUMA node read from SysFS had negative value (-1), but there must be at least one NUMA node, so returning NUMA node zero\n",
      "2023-02-13 23:49:43.386914: I tensorflow/stream_executor/cuda/cuda_gpu_executor.cc:980] successful NUMA node read from SysFS had negative value (-1), but there must be at least one NUMA node, so returning NUMA node zero\n",
      "2023-02-13 23:49:43.387078: I tensorflow/stream_executor/cuda/cuda_gpu_executor.cc:980] successful NUMA node read from SysFS had negative value (-1), but there must be at least one NUMA node, so returning NUMA node zero\n"
     ]
    }
   ],
   "source": [
    "# Only use 1 GPU\n",
    "devices = tf.config.list_physical_devices()[:2]\n",
    "tf.config.set_visible_devices(devices)"
   ]
  },
  {
   "cell_type": "code",
   "execution_count": 3,
   "id": "01f5cdd1-ec7f-4b7e-ac65-0cf15218124a",
   "metadata": {
    "tags": []
   },
   "outputs": [],
   "source": [
    "# Enable dynamic memory allocation on GPU for better usage monitoring\n",
    "for gpu in tf.config.list_physical_devices(\"GPU\"):\n",
    "    tf.config.experimental.set_memory_growth(gpu, True)"
   ]
  },
  {
   "cell_type": "markdown",
   "id": "3332742e-d07a-4d6d-9f2d-6ef430762aeb",
   "metadata": {},
   "source": [
    "---\n",
    "## MNIST Dataset"
   ]
  },
  {
   "cell_type": "code",
   "execution_count": 4,
   "id": "a6435297-a813-4d8e-8fcd-c986849978bc",
   "metadata": {},
   "outputs": [],
   "source": [
    "# Load the dataset\n",
    "(x_train, y_train), (x_test, y_test) = tf.keras.datasets.mnist.load_data()\n",
    "\n",
    "# Normalize between 0.0 and 1.0\n",
    "x_train = x_train / 255.0\n",
    "x_test = x_test / 255.0"
   ]
  },
  {
   "cell_type": "code",
   "execution_count": 5,
   "id": "65805d84-824c-42e8-8476-c56789b47f91",
   "metadata": {},
   "outputs": [
    {
     "data": {
      "text/plain": [
       "(60000, 28, 28)"
      ]
     },
     "execution_count": 5,
     "metadata": {},
     "output_type": "execute_result"
    }
   ],
   "source": [
    "x_train.shape"
   ]
  },
  {
   "cell_type": "code",
   "execution_count": 6,
   "id": "9a40a158-76d1-46d6-85e5-fcfe3cf3d205",
   "metadata": {},
   "outputs": [
    {
     "data": {
      "image/png": "[encoded data removed]",
      "text/plain": [
       "<Figure size 700x500 with 5 Axes>"
      ]
     },
     "metadata": {},
     "output_type": "display_data"
    }
   ],
   "source": [
    "plt.figure(figsize=(7, 5))\n",
    "for i in range(5):\n",
    "    plt.subplot(1, 5, i+1)\n",
    "    plt.imshow(x_train[i], cmap=\"gray\")\n",
    "    plt.axis(\"off\")\n",
    "plt.show()"
   ]
  },
  {
   "cell_type": "markdown",
   "id": "0b5329ad-aa29-424a-b978-59ea27d497f6",
   "metadata": {},
   "source": [
    "---\n",
    "## Model\n",
    "\n",
    "A vision transformer (ViT) model for classifying MNIST digits"
   ]
  },
  {
   "cell_type": "code",
   "execution_count": 17,
   "id": "0e529e84-e14c-4329-841e-b84a83fe76e1",
   "metadata": {},
   "outputs": [],
   "source": [
    "config = dict(\n",
    "    embed_dim     = 32,      # Embedding dimension\n",
    "    num_blocks    = 4,       # Number of transformer blocks\n",
    "    num_heads     = 4,       # Number of attention heads\n",
    "    dropout       = 0.1,     # Dropout for transformer blocks\n",
    "    ff_dim        = 64,      # Feed-forward layer dimensionality\n",
    "    pre_layernorm = True,    # Use pre-layernormalization\n",
    "    patch_size = x_train.shape[1] // 4,\n",
    "\n",
    "    optimizer = \"nadam\",\n",
    "    learning_rate = 1e-4\n",
    ")"
   ]
  },
  {
   "cell_type": "code",
   "execution_count": 24,
   "id": "ca32f687-ffa4-49bc-8ea7-34d38a15168e",
   "metadata": {},
   "outputs": [
    {
     "data": {
      "text/html": [
       "Tracking run with wandb version 0.13.10"
      ],
      "text/plain": [
       "<IPython.core.display.HTML object>"
      ]
     },
     "metadata": {},
     "output_type": "display_data"
    },
    {
     "data": {
      "text/html": [
       "Run data is saved locally in <code>/home/dwl2x/Research/Seminar/wandb/run-20230213_235901-g7we3zg0</code>"
      ],
      "text/plain": [
       "<IPython.core.display.HTML object>"
      ]
     },
     "metadata": {},
     "output_type": "display_data"
    },
    {
     "data": {
      "text/html": [
       "Syncing run <strong><a href='https://wandb.ai/dwl2x/mnist_vit/runs/g7we3zg0' target=\"_blank\">warm-gorge-27</a></strong> to <a href='https://wandb.ai/dwl2x/mnist_vit' target=\"_blank\">Weights & Biases</a> (<a href='https://wandb.me/run' target=\"_blank\">docs</a>)<br/>"
      ],
      "text/plain": [
       "<IPython.core.display.HTML object>"
      ]
     },
     "metadata": {},
     "output_type": "display_data"
    },
    {
     "data": {
      "text/html": [
       " View project at <a href='https://wandb.ai/dwl2x/mnist_vit' target=\"_blank\">https://wandb.ai/dwl2x/mnist_vit</a>"
      ],
      "text/plain": [
       "<IPython.core.display.HTML object>"
      ]
     },
     "metadata": {},
     "output_type": "display_data"
    },
    {
     "data": {
      "text/html": [
       " View run at <a href='https://wandb.ai/dwl2x/mnist_vit/runs/g7we3zg0' target=\"_blank\">https://wandb.ai/dwl2x/mnist_vit/runs/g7we3zg0</a>"
      ],
      "text/plain": [
       "<IPython.core.display.HTML object>"
      ]
     },
     "metadata": {},
     "output_type": "display_data"
    }
   ],
   "source": [
    "run = wandb.init(project=\"mnist_vit\", config=config)"
   ]
  },
  {
   "cell_type": "code",
   "execution_count": 25,
   "id": "5b16910e-88c1-43d4-9689-74d6d15b8cf6",
   "metadata": {},
   "outputs": [
    {
     "name": "stdout",
     "output_type": "stream",
     "text": [
      "Model: \"model_2\"\n",
      "_________________________________________________________________\n",
      " Layer (type)                Output Shape              Param #   \n",
      "=================================================================\n",
      " input_3 (InputLayer)        [(None, 28, 28)]          0         \n",
      "                                                                 \n",
      " reshape_4 (Reshape)         (None, 28, 28, 1)         0         \n",
      "                                                                 \n",
      " conv2d_2 (Conv2D)           (None, 4, 4, 32)          1600      \n",
      "                                                                 \n",
      " reshape_5 (Reshape)         (None, 16, 32)            0         \n",
      "                                                                 \n",
      " fixed_position_embedding_2   (None, 16, 32)           512       \n",
      " (FixedPositionEmbedding)                                        \n",
      "                                                                 \n",
      " transformer_block_6 (Transf  (None, 16, 32)           21120     \n",
      " ormerBlock)                                                     \n",
      "                                                                 \n",
      " transformer_block_7 (Transf  (None, 16, 32)           21120     \n",
      " ormerBlock)                                                     \n",
      "                                                                 \n",
      " transformer_block_8 (Transf  (None, 16, 32)           21120     \n",
      " ormerBlock)                                                     \n",
      "                                                                 \n",
      " transformer_block_9 (Transf  (None, 16, 32)           21120     \n",
      " ormerBlock)                                                     \n",
      "                                                                 \n",
      " global_average_pooling1d_2   (None, 32)               0         \n",
      " (GlobalAveragePooling1D)                                        \n",
      "                                                                 \n",
      " dense_24 (Dense)            (None, 32)                1056      \n",
      "                                                                 \n",
      " dense_25 (Dense)            (None, 10)                330       \n",
      "                                                                 \n",
      "=================================================================\n",
      "Total params: 87,978\n",
      "Trainable params: 87,978\n",
      "Non-trainable params: 0\n",
      "_________________________________________________________________\n"
     ]
    }
   ],
   "source": [
    "y = x = tf.keras.layers.Input((x_train.shape[1:])) # (28, 28)\n",
    "y = tf.keras.layers.Reshape((*x_train.shape[1:], 1))(y) # (28, 28, 1)\n",
    "\n",
    "# Image patches\n",
    "y = tf.keras.layers.Conv2D(\n",
    "    filters=config[\"embed_dim\"],\n",
    "    kernel_size=config[\"patch_size\"],\n",
    "    strides=config[\"patch_size\"])(y)\n",
    "y = tf.keras.layers.Reshape((-1, config[\"embed_dim\"]))(y)\n",
    "\n",
    "# Position embeddings\n",
    "y = common.FixedPositionEmbedding(y.shape[1], config[\"embed_dim\"])(y)\n",
    "\n",
    "# Transformer blocks\n",
    "for _ in range(config[\"num_blocks\"]):\n",
    "    y = common.TransformerBlock(\n",
    "        embed_dim=config[\"embed_dim\"],\n",
    "        num_heads=config[\"num_heads\"],\n",
    "        ff_dim=config[\"ff_dim\"],\n",
    "        prenorm=config[\"pre_layernorm\"],\n",
    "        dropout_rate=config[\"dropout\"])(y)\n",
    "\n",
    "# Pooling and output\n",
    "y = tf.keras.layers.GlobalAveragePooling1D()(y)\n",
    "y = tf.keras.layers.Dense(config[\"embed_dim\"], activation='gelu')(y)\n",
    "y = tf.keras.layers.Dense(10, activation=\"softmax\")(y)\n",
    "\n",
    "model = tf.keras.Model(x, y)\n",
    "model.summary()"
   ]
  },
  {
   "cell_type": "code",
   "execution_count": 26,
   "id": "97c73318-fd72-44c5-ad49-83f292117b1c",
   "metadata": {},
   "outputs": [],
   "source": [
    "model.compile(\n",
    "    loss = tf.keras.losses.SparseCategoricalCrossentropy(from_logits=False),\n",
    "    optimizer = common.select_optimizer(config[\"optimizer\"])(config[\"learning_rate\"]),\n",
    "    metrics = tf.keras.metrics.SparseCategoricalAccuracy())"
   ]
  },
  {
   "cell_type": "markdown",
   "id": "b27afb15-fe95-4df2-b55d-d61e5017ba1b",
   "metadata": {},
   "source": [
    "---\n",
    "## Model Training"
   ]
  },
  {
   "cell_type": "code",
   "execution_count": 27,
   "id": "64f33631-90d8-4bbb-bce6-986c20e2ce89",
   "metadata": {},
   "outputs": [
    {
     "name": "stderr",
     "output_type": "stream",
     "text": [
      "Exception in thread SystemMonitor:\n",
      "Traceback (most recent call last):\n",
      "  File \"/opt/conda/lib/python3.10/threading.py\", line 1016, in _bootstrap_inner\n",
      "    self.run()\n",
      "  File \"/opt/conda/lib/python3.10/threading.py\", line 953, in run\n",
      "    self._target(*self._args, **self._kwargs)\n",
      "  File \"/opt/conda/lib/python3.10/site-packages/wandb/sdk/internal/system/system_monitor.py\", line 118, in _start\n",
      "    asset.start()\n",
      "  File \"/opt/conda/lib/python3.10/site-packages/wandb/sdk/internal/system/assets/cpu.py\", line 166, in start\n",
      "    self.metrics_monitor.start()\n",
      "  File \"/opt/conda/lib/python3.10/site-packages/wandb/sdk/internal/system/assets/interfaces.py\", line 168, in start\n",
      "    logger.info(f\"Started {self._process.name}\")\n",
      "AttributeError: 'NoneType' object has no attribute 'name'\n"
     ]
    }
   ],
   "source": [
    "wandb_callback = wandb.keras.WandbCallback()\n",
    "wandb_callback.save_model_as_artifact = False"
   ]
  },
  {
   "cell_type": "code",
   "execution_count": 28,
   "id": "2bccf81f-d32d-4d9a-a2fa-a837b7280cc8",
   "metadata": {},
   "outputs": [
    {
     "name": "stdout",
     "output_type": "stream",
     "text": [
      "Epoch 1/10\n",
      "469/469 [==============================] - 13s 18ms/step - loss: 1.2908 - sparse_categorical_accuracy: 0.5608 - val_loss: 0.7897 - val_sparse_categorical_accuracy: 0.7367\n",
      "Epoch 2/10\n",
      "469/469 [==============================] - 8s 17ms/step - loss: 0.6861 - sparse_categorical_accuracy: 0.7763 - val_loss: 0.5822 - val_sparse_categorical_accuracy: 0.8137\n",
      "Epoch 3/10\n",
      "469/469 [==============================] - 8s 17ms/step - loss: 0.5369 - sparse_categorical_accuracy: 0.8267 - val_loss: 0.4525 - val_sparse_categorical_accuracy: 0.8568\n",
      "Epoch 4/10\n",
      "469/469 [==============================] - 8s 17ms/step - loss: 0.4345 - sparse_categorical_accuracy: 0.8620 - val_loss: 0.3520 - val_sparse_categorical_accuracy: 0.8885\n",
      "Epoch 5/10\n",
      "469/469 [==============================] - 8s 17ms/step - loss: 0.3568 - sparse_categorical_accuracy: 0.8889 - val_loss: 0.2891 - val_sparse_categorical_accuracy: 0.9116\n",
      "Epoch 6/10\n",
      "469/469 [==============================] - 8s 18ms/step - loss: 0.3009 - sparse_categorical_accuracy: 0.9062 - val_loss: 0.2589 - val_sparse_categorical_accuracy: 0.9180\n",
      "Epoch 7/10\n",
      "469/469 [==============================] - 8s 18ms/step - loss: 0.2606 - sparse_categorical_accuracy: 0.9173 - val_loss: 0.2162 - val_sparse_categorical_accuracy: 0.9329\n",
      "Epoch 8/10\n",
      "469/469 [==============================] - 8s 18ms/step - loss: 0.2329 - sparse_categorical_accuracy: 0.9277 - val_loss: 0.1995 - val_sparse_categorical_accuracy: 0.9377\n",
      "Epoch 9/10\n",
      "469/469 [==============================] - 8s 17ms/step - loss: 0.2094 - sparse_categorical_accuracy: 0.9344 - val_loss: 0.1843 - val_sparse_categorical_accuracy: 0.9443\n",
      "Epoch 10/10\n",
      "469/469 [==============================] - 8s 17ms/step - loss: 0.1949 - sparse_categorical_accuracy: 0.9388 - val_loss: 0.1672 - val_sparse_categorical_accuracy: 0.9487\n"
     ]
    }
   ],
   "source": [
    "history = model.fit(\n",
    "    x_train,\n",
    "    y_train,\n",
    "    epochs=10,\n",
    "    batch_size=128,\n",
    "    validation_data=(x_test, y_test),\n",
    "    callbacks=[wandb_callback]\n",
    ")"
   ]
  },
  {
   "cell_type": "code",
   "execution_count": 31,
   "id": "49eda146-9ee9-402a-a2d9-10447c080888",
   "metadata": {},
   "outputs": [
    {
     "name": "stderr",
     "output_type": "stream",
     "text": [
      "WARNING:absl:Found untraced functions such as _jit_compiled_convolution_op, layer_normalization_12_layer_call_fn, layer_normalization_12_layer_call_and_return_conditional_losses, layer_normalization_13_layer_call_fn, layer_normalization_13_layer_call_and_return_conditional_losses while saving (showing 5 of 89). These functions will not be directly callable after loading.\n"
     ]
    },
    {
     "name": "stdout",
     "output_type": "stream",
     "text": [
      "INFO:tensorflow:Assets written to: /home/dwl2x/Research/Seminar/wandb/run-20230213_235901-g7we3zg0/files/mnist_vit/assets\n"
     ]
    },
    {
     "name": "stderr",
     "output_type": "stream",
     "text": [
      "INFO:tensorflow:Assets written to: /home/dwl2x/Research/Seminar/wandb/run-20230213_235901-g7we3zg0/files/mnist_vit/assets\n"
     ]
    }
   ],
   "source": [
    "model.save(os.path.join(run.dir, \"mnist_vit\"))"
   ]
  },
  {
   "cell_type": "code",
   "execution_count": 32,
   "id": "1e763b1f-56aa-4f38-aea4-ef1e3a44613f",
   "metadata": {},
   "outputs": [
    {
     "data": {
      "text/html": [
       "Waiting for W&B process to finish... <strong style=\"color:green\">(success).</strong>"
      ],
      "text/plain": [
       "<IPython.core.display.HTML object>"
      ]
     },
     "metadata": {},
     "output_type": "display_data"
    },
    {
     "data": {
      "application/vnd.jupyter.widget-view+json": {
       "model_id": "e0e00e175f7546989e5d965922dff7be",
       "version_major": 2,
       "version_minor": 0
      },
      "text/plain": [
       "VBox(children=(Label(value='1.274 MB of 1.274 MB uploaded (0.000 MB deduped)\\r'), FloatProgress(value=1.0, max…"
      ]
     },
     "metadata": {},
     "output_type": "display_data"
    },
    {
     "data": {
      "text/html": [
       "<style>\n",
       "    table.wandb td:nth-child(1) { padding: 0 10px; text-align: left ; width: auto;} td:nth-child(2) {text-align: left ; width: 100%}\n",
       "    .wandb-row { display: flex; flex-direction: row; flex-wrap: wrap; justify-content: flex-start; width: 100% }\n",
       "    .wandb-col { display: flex; flex-direction: column; flex-basis: 100%; flex: 1; padding: 10px; }\n",
       "    </style>\n",
       "<div class=\"wandb-row\"><div class=\"wandb-col\"><h3>Run history:</h3><br/><table class=\"wandb\"><tr><td>epoch</td><td>▁▂▃▃▄▅▆▆▇█</td></tr><tr><td>loss</td><td>█▄▃▃▂▂▁▁▁▁</td></tr><tr><td>sparse_categorical_accuracy</td><td>▁▅▆▇▇▇████</td></tr><tr><td>val_loss</td><td>█▆▄▃▂▂▂▁▁▁</td></tr><tr><td>val_sparse_categorical_accuracy</td><td>▁▄▅▆▇▇▇███</td></tr></table><br/></div><div class=\"wandb-col\"><h3>Run summary:</h3><br/><table class=\"wandb\"><tr><td>best_epoch</td><td>9</td></tr><tr><td>best_val_loss</td><td>0.16721</td></tr><tr><td>epoch</td><td>9</td></tr><tr><td>loss</td><td>0.1949</td></tr><tr><td>sparse_categorical_accuracy</td><td>0.93882</td></tr><tr><td>val_loss</td><td>0.16721</td></tr><tr><td>val_sparse_categorical_accuracy</td><td>0.9487</td></tr></table><br/></div></div>"
      ],
      "text/plain": [
       "<IPython.core.display.HTML object>"
      ]
     },
     "metadata": {},
     "output_type": "display_data"
    },
    {
     "data": {
      "text/html": [
       " View run <strong style=\"color:#cdcd00\">warm-gorge-27</strong> at: <a href='https://wandb.ai/dwl2x/mnist_vit/runs/g7we3zg0' target=\"_blank\">https://wandb.ai/dwl2x/mnist_vit/runs/g7we3zg0</a><br/>Synced 6 W&B file(s), 1 media file(s), 0 artifact file(s) and 5 other file(s)"
      ],
      "text/plain": [
       "<IPython.core.display.HTML object>"
      ]
     },
     "metadata": {},
     "output_type": "display_data"
    },
    {
     "data": {
      "text/html": [
       "Find logs at: <code>./wandb/run-20230213_235901-g7we3zg0/logs</code>"
      ],
      "text/plain": [
       "<IPython.core.display.HTML object>"
      ]
     },
     "metadata": {},
     "output_type": "display_data"
    }
   ],
   "source": [
    "run.finish()"
   ]
  },
  {
   "cell_type": "markdown",
   "id": "3b58ec82-20e2-4b5e-9a8d-1a17dbc437c2",
   "metadata": {},
   "source": [
    "---\n",
    "## Results"
   ]
  },
  {
   "cell_type": "code",
   "execution_count": 14,
   "id": "9f29131c-d95e-4c79-879b-2ea351100b60",
   "metadata": {},
   "outputs": [
    {
     "data": {
      "image/png": "[encoded data removed]",
      "text/plain": [
       "<Figure size 600x300 with 1 Axes>"
      ]
     },
     "metadata": {},
     "output_type": "display_data"
    }
   ],
   "source": [
    "plt.figure(figsize=(6, 3))\n",
    "plt.title(\"Loss\")\n",
    "plt.plot(history.history[\"loss\"], label=\"Training\")\n",
    "plt.plot(history.history[\"val_loss\"], label=\"Validation\")\n",
    "plt.show()"
   ]
  },
  {
   "cell_type": "code",
   "execution_count": 15,
   "id": "4a0653a3-6f8d-46ae-9b7e-b09fbd49fdf1",
   "metadata": {},
   "outputs": [
    {
     "data": {
      "image/png": "[encoded data removed]",
      "text/plain": [
       "<Figure size 600x300 with 1 Axes>"
      ]
     },
     "metadata": {},
     "output_type": "display_data"
    }
   ],
   "source": [
    "plt.figure(figsize=(6, 3))\n",
    "plt.title(\"Accuracy\")\n",
    "plt.plot(history.history[\"sparse_categorical_accuracy\"], label=\"Training\")\n",
    "plt.plot(history.history[\"val_sparse_categorical_accuracy\"], label=\"Validation\")\n",
    "plt.show()"
   ]
  },
  {
   "cell_type": "code",
   "execution_count": null,
   "id": "96bfd034-8ed2-4633-8a5b-5a074675cbe0",
   "metadata": {},
   "outputs": [],
   "source": []
  }
 ],
 "metadata": {
  "kernelspec": {
   "display_name": "Python 3 (ipykernel)",
   "language": "python",
   "name": "python3"
  },
  "language_info": {
   "codemirror_mode": {
    "name": "ipython",
    "version": 3
   },
   "file_extension": ".py",
   "mimetype": "text/x-python",
   "name": "python",
   "nbconvert_exporter": "python",
   "pygments_lexer": "ipython3",
   "version": "3.10.8"
  }
 },
 "nbformat": 4,
 "nbformat_minor": 5
}
