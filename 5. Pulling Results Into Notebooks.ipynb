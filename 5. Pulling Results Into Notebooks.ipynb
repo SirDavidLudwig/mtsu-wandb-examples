{
 "cells": [
  {
   "cell_type": "markdown",
   "id": "34b05787-23ac-4304-b8de-8c786c2e1d80",
   "metadata": {},
   "source": [
    "# Pulling Results into a Notebook"
   ]
  },
  {
   "cell_type": "code",
   "execution_count": 11,
   "id": "a5ab03d8-b7cf-4ead-84db-15144da3ac0c",
   "metadata": {},
   "outputs": [
    {
     "name": "stderr",
     "output_type": "stream",
     "text": [
      "2023-02-14 16:37:34.292168: I tensorflow/core/platform/cpu_feature_guard.cc:193] This TensorFlow binary is optimized with oneAPI Deep Neural Network Library (oneDNN) to use the following CPU instructions in performance-critical operations:  SSE4.1 SSE4.2 AVX AVX2 FMA\n",
      "To enable them in other operations, rebuild TensorFlow with the appropriate compiler flags.\n"
     ]
    }
   ],
   "source": [
    "import matplotlib.pyplot as plt\n",
    "import numpy as np\n",
    "import pandas as pd\n",
    "import tensorflow as tf\n",
    "import wandb"
   ]
  },
  {
   "cell_type": "markdown",
   "id": "dcfa5894-21cb-4e99-ab0f-59abd90281bb",
   "metadata": {},
   "source": [
    "## Create the API instance"
   ]
  },
  {
   "cell_type": "code",
   "execution_count": 2,
   "id": "9bb89a87-4fae-4934-99d2-c4a4716c7988",
   "metadata": {},
   "outputs": [],
   "source": [
    "api = wandb.Api()"
   ]
  },
  {
   "cell_type": "markdown",
   "id": "5a91ccf2-2b43-4102-8613-66465a6e4b77",
   "metadata": {},
   "source": [
    "## Search Through Runs"
   ]
  },
  {
   "cell_type": "code",
   "execution_count": 3,
   "id": "9fb20651-81d6-4e80-8fdf-6c19c27d0e37",
   "metadata": {},
   "outputs": [],
   "source": [
    "runs = api.runs(\"dwl2x/mnist_vit\")"
   ]
  },
  {
   "cell_type": "code",
   "execution_count": 4,
   "id": "3d7538fb-6f6b-4ba4-b1ed-6ab5d639933f",
   "metadata": {},
   "outputs": [
    {
     "name": "stdout",
     "output_type": "stream",
     "text": [
      "vvwnjy92 sage-wildflower-7\n",
      "h94s42l1 driven-smoke-6\n"
     ]
    }
   ],
   "source": [
    "for run in runs:\n",
    "    print(run.id, run.name)"
   ]
  },
  {
   "cell_type": "markdown",
   "id": "cb13bfa6-6f5f-4261-8071-925909c08415",
   "metadata": {},
   "source": [
    "## Pull a specific run"
   ]
  },
  {
   "cell_type": "code",
   "execution_count": 5,
   "id": "1c50ad17-1fcd-491c-9a6f-183224a5f916",
   "metadata": {},
   "outputs": [],
   "source": [
    "# run = runs[0]\n",
    "run = api.run(\"dwl2x/mnist_vit/vvwnjy92\")"
   ]
  },
  {
   "cell_type": "markdown",
   "id": "8b602c6e-aa27-48c7-82bf-a85079f2907e",
   "metadata": {},
   "source": [
    "## Pull General History"
   ]
  },
  {
   "cell_type": "code",
   "execution_count": 6,
   "id": "4314bf6d-acdc-408e-91b0-858fb51e01e4",
   "metadata": {},
   "outputs": [
    {
     "data": {
      "text/html": [
       "<div>\n",
       "<style scoped>\n",
       "    .dataframe tbody tr th:only-of-type {\n",
       "        vertical-align: middle;\n",
       "    }\n",
       "\n",
       "    .dataframe tbody tr th {\n",
       "        vertical-align: top;\n",
       "    }\n",
       "\n",
       "    .dataframe thead th {\n",
       "        text-align: right;\n",
       "    }\n",
       "</style>\n",
       "<table border=\"1\" class=\"dataframe\">\n",
       "  <thead>\n",
       "    <tr style=\"text-align: right;\">\n",
       "      <th></th>\n",
       "      <th>_step</th>\n",
       "      <th>sparse_categorical_accuracy</th>\n",
       "      <th>loss</th>\n",
       "      <th>_runtime</th>\n",
       "      <th>val_sparse_categorical_accuracy</th>\n",
       "      <th>epoch</th>\n",
       "      <th>_timestamp</th>\n",
       "      <th>val_loss</th>\n",
       "    </tr>\n",
       "  </thead>\n",
       "  <tbody>\n",
       "    <tr>\n",
       "      <th>0</th>\n",
       "      <td>0</td>\n",
       "      <td>0.670017</td>\n",
       "      <td>1.009569</td>\n",
       "      <td>287.669273</td>\n",
       "      <td>0.8125</td>\n",
       "      <td>0</td>\n",
       "      <td>1.676299e+09</td>\n",
       "      <td>0.578291</td>\n",
       "    </tr>\n",
       "    <tr>\n",
       "      <th>1</th>\n",
       "      <td>1</td>\n",
       "      <td>0.839500</td>\n",
       "      <td>0.503648</td>\n",
       "      <td>303.569930</td>\n",
       "      <td>0.8743</td>\n",
       "      <td>1</td>\n",
       "      <td>1.676299e+09</td>\n",
       "      <td>0.393698</td>\n",
       "    </tr>\n",
       "    <tr>\n",
       "      <th>2</th>\n",
       "      <td>2</td>\n",
       "      <td>0.888117</td>\n",
       "      <td>0.359108</td>\n",
       "      <td>319.390640</td>\n",
       "      <td>0.9076</td>\n",
       "      <td>2</td>\n",
       "      <td>1.676300e+09</td>\n",
       "      <td>0.297150</td>\n",
       "    </tr>\n",
       "    <tr>\n",
       "      <th>3</th>\n",
       "      <td>3</td>\n",
       "      <td>0.911617</td>\n",
       "      <td>0.282952</td>\n",
       "      <td>335.284207</td>\n",
       "      <td>0.9213</td>\n",
       "      <td>3</td>\n",
       "      <td>1.676300e+09</td>\n",
       "      <td>0.252255</td>\n",
       "    </tr>\n",
       "    <tr>\n",
       "      <th>4</th>\n",
       "      <td>4</td>\n",
       "      <td>0.924650</td>\n",
       "      <td>0.241555</td>\n",
       "      <td>351.027205</td>\n",
       "      <td>0.9352</td>\n",
       "      <td>4</td>\n",
       "      <td>1.676300e+09</td>\n",
       "      <td>0.206867</td>\n",
       "    </tr>\n",
       "    <tr>\n",
       "      <th>5</th>\n",
       "      <td>5</td>\n",
       "      <td>0.933567</td>\n",
       "      <td>0.212516</td>\n",
       "      <td>366.706097</td>\n",
       "      <td>0.9444</td>\n",
       "      <td>5</td>\n",
       "      <td>1.676300e+09</td>\n",
       "      <td>0.182086</td>\n",
       "    </tr>\n",
       "    <tr>\n",
       "      <th>6</th>\n",
       "      <td>6</td>\n",
       "      <td>0.940450</td>\n",
       "      <td>0.190078</td>\n",
       "      <td>382.599570</td>\n",
       "      <td>0.9476</td>\n",
       "      <td>6</td>\n",
       "      <td>1.676300e+09</td>\n",
       "      <td>0.172809</td>\n",
       "    </tr>\n",
       "    <tr>\n",
       "      <th>7</th>\n",
       "      <td>7</td>\n",
       "      <td>0.946083</td>\n",
       "      <td>0.174214</td>\n",
       "      <td>398.542535</td>\n",
       "      <td>0.9521</td>\n",
       "      <td>7</td>\n",
       "      <td>1.676300e+09</td>\n",
       "      <td>0.153698</td>\n",
       "    </tr>\n",
       "    <tr>\n",
       "      <th>8</th>\n",
       "      <td>8</td>\n",
       "      <td>0.948933</td>\n",
       "      <td>0.161397</td>\n",
       "      <td>414.614483</td>\n",
       "      <td>0.9543</td>\n",
       "      <td>8</td>\n",
       "      <td>1.676300e+09</td>\n",
       "      <td>0.149426</td>\n",
       "    </tr>\n",
       "    <tr>\n",
       "      <th>9</th>\n",
       "      <td>9</td>\n",
       "      <td>0.952950</td>\n",
       "      <td>0.148631</td>\n",
       "      <td>430.492117</td>\n",
       "      <td>0.9550</td>\n",
       "      <td>9</td>\n",
       "      <td>1.676300e+09</td>\n",
       "      <td>0.139820</td>\n",
       "    </tr>\n",
       "    <tr>\n",
       "      <th>10</th>\n",
       "      <td>10</td>\n",
       "      <td>0.956017</td>\n",
       "      <td>0.139369</td>\n",
       "      <td>446.463345</td>\n",
       "      <td>0.9610</td>\n",
       "      <td>10</td>\n",
       "      <td>1.676300e+09</td>\n",
       "      <td>0.129119</td>\n",
       "    </tr>\n",
       "    <tr>\n",
       "      <th>11</th>\n",
       "      <td>11</td>\n",
       "      <td>0.958567</td>\n",
       "      <td>0.130960</td>\n",
       "      <td>462.367710</td>\n",
       "      <td>0.9594</td>\n",
       "      <td>11</td>\n",
       "      <td>1.676300e+09</td>\n",
       "      <td>0.131273</td>\n",
       "    </tr>\n",
       "    <tr>\n",
       "      <th>12</th>\n",
       "      <td>12</td>\n",
       "      <td>0.961250</td>\n",
       "      <td>0.123721</td>\n",
       "      <td>478.175997</td>\n",
       "      <td>0.9643</td>\n",
       "      <td>12</td>\n",
       "      <td>1.676300e+09</td>\n",
       "      <td>0.119869</td>\n",
       "    </tr>\n",
       "    <tr>\n",
       "      <th>13</th>\n",
       "      <td>13</td>\n",
       "      <td>0.962233</td>\n",
       "      <td>0.118069</td>\n",
       "      <td>493.954880</td>\n",
       "      <td>0.9631</td>\n",
       "      <td>13</td>\n",
       "      <td>1.676300e+09</td>\n",
       "      <td>0.119727</td>\n",
       "    </tr>\n",
       "    <tr>\n",
       "      <th>14</th>\n",
       "      <td>14</td>\n",
       "      <td>0.964650</td>\n",
       "      <td>0.111842</td>\n",
       "      <td>509.996688</td>\n",
       "      <td>0.9644</td>\n",
       "      <td>14</td>\n",
       "      <td>1.676300e+09</td>\n",
       "      <td>0.121870</td>\n",
       "    </tr>\n",
       "    <tr>\n",
       "      <th>15</th>\n",
       "      <td>15</td>\n",
       "      <td>0.966517</td>\n",
       "      <td>0.107407</td>\n",
       "      <td>525.983613</td>\n",
       "      <td>0.9652</td>\n",
       "      <td>15</td>\n",
       "      <td>1.676300e+09</td>\n",
       "      <td>0.111047</td>\n",
       "    </tr>\n",
       "    <tr>\n",
       "      <th>16</th>\n",
       "      <td>16</td>\n",
       "      <td>0.968283</td>\n",
       "      <td>0.102165</td>\n",
       "      <td>541.872008</td>\n",
       "      <td>0.9663</td>\n",
       "      <td>16</td>\n",
       "      <td>1.676300e+09</td>\n",
       "      <td>0.108406</td>\n",
       "    </tr>\n",
       "    <tr>\n",
       "      <th>17</th>\n",
       "      <td>17</td>\n",
       "      <td>0.969283</td>\n",
       "      <td>0.098814</td>\n",
       "      <td>557.923838</td>\n",
       "      <td>0.9656</td>\n",
       "      <td>17</td>\n",
       "      <td>1.676300e+09</td>\n",
       "      <td>0.106991</td>\n",
       "    </tr>\n",
       "    <tr>\n",
       "      <th>18</th>\n",
       "      <td>18</td>\n",
       "      <td>0.970250</td>\n",
       "      <td>0.093610</td>\n",
       "      <td>573.988736</td>\n",
       "      <td>0.9697</td>\n",
       "      <td>18</td>\n",
       "      <td>1.676300e+09</td>\n",
       "      <td>0.101989</td>\n",
       "    </tr>\n",
       "    <tr>\n",
       "      <th>19</th>\n",
       "      <td>19</td>\n",
       "      <td>0.970667</td>\n",
       "      <td>0.093645</td>\n",
       "      <td>589.897695</td>\n",
       "      <td>0.9680</td>\n",
       "      <td>19</td>\n",
       "      <td>1.676300e+09</td>\n",
       "      <td>0.111359</td>\n",
       "    </tr>\n",
       "  </tbody>\n",
       "</table>\n",
       "</div>"
      ],
      "text/plain": [
       "    _step  sparse_categorical_accuracy      loss    _runtime  \\\n",
       "0       0                     0.670017  1.009569  287.669273   \n",
       "1       1                     0.839500  0.503648  303.569930   \n",
       "2       2                     0.888117  0.359108  319.390640   \n",
       "3       3                     0.911617  0.282952  335.284207   \n",
       "4       4                     0.924650  0.241555  351.027205   \n",
       "5       5                     0.933567  0.212516  366.706097   \n",
       "6       6                     0.940450  0.190078  382.599570   \n",
       "7       7                     0.946083  0.174214  398.542535   \n",
       "8       8                     0.948933  0.161397  414.614483   \n",
       "9       9                     0.952950  0.148631  430.492117   \n",
       "10     10                     0.956017  0.139369  446.463345   \n",
       "11     11                     0.958567  0.130960  462.367710   \n",
       "12     12                     0.961250  0.123721  478.175997   \n",
       "13     13                     0.962233  0.118069  493.954880   \n",
       "14     14                     0.964650  0.111842  509.996688   \n",
       "15     15                     0.966517  0.107407  525.983613   \n",
       "16     16                     0.968283  0.102165  541.872008   \n",
       "17     17                     0.969283  0.098814  557.923838   \n",
       "18     18                     0.970250  0.093610  573.988736   \n",
       "19     19                     0.970667  0.093645  589.897695   \n",
       "\n",
       "    val_sparse_categorical_accuracy  epoch    _timestamp  val_loss  \n",
       "0                            0.8125      0  1.676299e+09  0.578291  \n",
       "1                            0.8743      1  1.676299e+09  0.393698  \n",
       "2                            0.9076      2  1.676300e+09  0.297150  \n",
       "3                            0.9213      3  1.676300e+09  0.252255  \n",
       "4                            0.9352      4  1.676300e+09  0.206867  \n",
       "5                            0.9444      5  1.676300e+09  0.182086  \n",
       "6                            0.9476      6  1.676300e+09  0.172809  \n",
       "7                            0.9521      7  1.676300e+09  0.153698  \n",
       "8                            0.9543      8  1.676300e+09  0.149426  \n",
       "9                            0.9550      9  1.676300e+09  0.139820  \n",
       "10                           0.9610     10  1.676300e+09  0.129119  \n",
       "11                           0.9594     11  1.676300e+09  0.131273  \n",
       "12                           0.9643     12  1.676300e+09  0.119869  \n",
       "13                           0.9631     13  1.676300e+09  0.119727  \n",
       "14                           0.9644     14  1.676300e+09  0.121870  \n",
       "15                           0.9652     15  1.676300e+09  0.111047  \n",
       "16                           0.9663     16  1.676300e+09  0.108406  \n",
       "17                           0.9656     17  1.676300e+09  0.106991  \n",
       "18                           0.9697     18  1.676300e+09  0.101989  \n",
       "19                           0.9680     19  1.676300e+09  0.111359  "
      ]
     },
     "execution_count": 6,
     "metadata": {},
     "output_type": "execute_result"
    }
   ],
   "source": [
    "# Limits to 500 sample points. Use scan_history for all data\n",
    "history = run.history()\n",
    "history"
   ]
  },
  {
   "cell_type": "code",
   "execution_count": 7,
   "id": "dc5fc201-e927-4277-9645-c1fbef3dd383",
   "metadata": {},
   "outputs": [
    {
     "data": {
      "text/plain": [
       "0     0.670017\n",
       "1     0.839500\n",
       "2     0.888117\n",
       "3     0.911617\n",
       "4     0.924650\n",
       "5     0.933567\n",
       "6     0.940450\n",
       "7     0.946083\n",
       "8     0.948933\n",
       "9     0.952950\n",
       "10    0.956017\n",
       "11    0.958567\n",
       "12    0.961250\n",
       "13    0.962233\n",
       "14    0.964650\n",
       "15    0.966517\n",
       "16    0.968283\n",
       "17    0.969283\n",
       "18    0.970250\n",
       "19    0.970667\n",
       "Name: sparse_categorical_accuracy, dtype: float64"
      ]
     },
     "execution_count": 7,
     "metadata": {},
     "output_type": "execute_result"
    }
   ],
   "source": [
    "history[\"sparse_categorical_accuracy\"]"
   ]
  },
  {
   "cell_type": "code",
   "execution_count": 8,
   "id": "7ebffc20-685c-4468-a2e0-e3feb909cef7",
   "metadata": {},
   "outputs": [
    {
     "data": {
      "image/png": "[encoded data removed]",
      "text/plain": [
       "<Figure size 640x480 with 1 Axes>"
      ]
     },
     "metadata": {},
     "output_type": "display_data"
    }
   ],
   "source": [
    "plt.title(\"Accuracy\")\n",
    "plt.plot(history[\"epoch\"], history[\"sparse_categorical_accuracy\"])\n",
    "plt.plot(history[\"epoch\"], history[\"val_sparse_categorical_accuracy\"])\n",
    "plt.show()"
   ]
  },
  {
   "cell_type": "markdown",
   "id": "d2b14496-ba80-48d0-be39-9eb1d100eaf2",
   "metadata": {},
   "source": [
    "## Pulling Files from Run"
   ]
  },
  {
   "cell_type": "code",
   "execution_count": null,
   "id": "28c97717-d999-4030-bfb0-26f9a11edadf",
   "metadata": {},
   "outputs": [],
   "source": []
  },
  {
   "cell_type": "markdown",
   "id": "43613a4b-6526-426d-8b19-80244d542954",
   "metadata": {},
   "source": [
    "---\n",
    "## Pulling Artifacts"
   ]
  },
  {
   "cell_type": "code",
   "execution_count": 10,
   "id": "75182b93-1d6c-4415-ba13-faa13ac4a2b1",
   "metadata": {},
   "outputs": [
    {
     "name": "stderr",
     "output_type": "stream",
     "text": [
      "\u001b[34m\u001b[1mwandb\u001b[0m:   4 of 4 files downloaded.  \n"
     ]
    },
    {
     "data": {
      "text/plain": [
       "'./artifacts/mnist-generator:v0'"
      ]
     },
     "execution_count": 10,
     "metadata": {},
     "output_type": "execute_result"
    }
   ],
   "source": [
    "path = api.artifact(\"dwl2x/mnist_dcgan/mnist-generator:v0\").download()\n",
    "path"
   ]
  },
  {
   "cell_type": "code",
   "execution_count": 13,
   "id": "6796c200-6ffd-4927-b142-97e14e04cd6a",
   "metadata": {},
   "outputs": [],
   "source": [
    "generator = tf.keras.models.load_model(path)"
   ]
  },
  {
   "cell_type": "code",
   "execution_count": 44,
   "id": "7d45cbee-ce77-4f44-8c2f-165f336c6f7a",
   "metadata": {},
   "outputs": [],
   "source": [
    "digit = generator(np.random.normal(size=(1, generator.input_shape[1])))[0]"
   ]
  },
  {
   "cell_type": "code",
   "execution_count": 45,
   "id": "ba68d5cd-b37e-4578-97ab-4929f96bc61e",
   "metadata": {},
   "outputs": [
    {
     "data": {
      "image/png": "[encoded data removed]",
      "text/plain": [
       "<Figure size 300x300 with 1 Axes>"
      ]
     },
     "metadata": {},
     "output_type": "display_data"
    }
   ],
   "source": [
    "plt.figure(figsize=(3, 3))\n",
    "plt.imshow(digit, cmap=\"gray\")\n",
    "plt.axis(\"off\")\n",
    "plt.show()"
   ]
  },
  {
   "cell_type": "code",
   "execution_count": 46,
   "id": "68878310-9eee-4e2d-b0de-9b880b3815b6",
   "metadata": {},
   "outputs": [],
   "source": [
    "artifact = api.artifact(\"dwl2x/mnist_dataset/mnist:v1\")"
   ]
  },
  {
   "cell_type": "code",
   "execution_count": null,
   "id": "91eaaf8c-e336-4a3c-b088-1ee74379b2d7",
   "metadata": {},
   "outputs": [],
   "source": []
  }
 ],
 "metadata": {
  "kernelspec": {
   "display_name": "Python 3 (ipykernel)",
   "language": "python",
   "name": "python3"
  },
  "language_info": {
   "codemirror_mode": {
    "name": "ipython",
    "version": 3
   },
   "file_extension": ".py",
   "mimetype": "text/x-python",
   "name": "python",
   "nbconvert_exporter": "python",
   "pygments_lexer": "ipython3",
   "version": "3.10.8"
  }
 },
 "nbformat": 4,
 "nbformat_minor": 5
}
