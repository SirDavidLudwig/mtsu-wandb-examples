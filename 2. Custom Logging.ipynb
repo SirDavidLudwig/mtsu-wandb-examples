{
 "cells": [
  {
   "cell_type": "markdown",
   "id": "d242e523-81d9-49ea-a489-c8d19136e2bd",
   "metadata": {},
   "source": [
    "# Custom Logging Examples"
   ]
  },
  {
   "cell_type": "code",
   "execution_count": 2,
   "id": "7cde06e3-5e4f-4de1-a085-82602ae8a8dd",
   "metadata": {},
   "outputs": [],
   "source": [
    "import matplotlib.pyplot as plt\n",
    "import numpy as np\n",
    "import pandas as pd\n",
    "import wandb"
   ]
  },
  {
   "cell_type": "markdown",
   "id": "4bf4f384-e8ee-4287-90e8-30f33539c473",
   "metadata": {},
   "source": [
    "---\n",
    "## General Logging"
   ]
  },
  {
   "cell_type": "code",
   "execution_count": 105,
   "id": "506a03b5-6fb2-4609-a6c4-9c6d4ad484c4",
   "metadata": {},
   "outputs": [
    {
     "data": {
      "text/html": [
       "Finishing last run (ID:knqvpbyj) before initializing another..."
      ],
      "text/plain": [
       "<IPython.core.display.HTML object>"
      ]
     },
     "metadata": {},
     "output_type": "display_data"
    },
    {
     "data": {
      "text/html": [
       "Waiting for W&B process to finish... <strong style=\"color:green\">(success).</strong>"
      ],
      "text/plain": [
       "<IPython.core.display.HTML object>"
      ]
     },
     "metadata": {},
     "output_type": "display_data"
    },
    {
     "data": {
      "text/html": [
       " View run <strong style=\"color:#cdcd00\">appealing-date-7</strong> at: <a href='https://wandb.ai/dwl2x/log_tests/runs/knqvpbyj' target=\"_blank\">https://wandb.ai/dwl2x/log_tests/runs/knqvpbyj</a><br/>Synced 5 W&B file(s), 0 media file(s), 0 artifact file(s) and 0 other file(s)"
      ],
      "text/plain": [
       "<IPython.core.display.HTML object>"
      ]
     },
     "metadata": {},
     "output_type": "display_data"
    },
    {
     "data": {
      "text/html": [
       "Find logs at: <code>./wandb/run-20230214_073404-knqvpbyj/logs</code>"
      ],
      "text/plain": [
       "<IPython.core.display.HTML object>"
      ]
     },
     "metadata": {},
     "output_type": "display_data"
    },
    {
     "data": {
      "text/html": [
       "Successfully finished last run (ID:knqvpbyj). Initializing new run:<br/>"
      ],
      "text/plain": [
       "<IPython.core.display.HTML object>"
      ]
     },
     "metadata": {},
     "output_type": "display_data"
    },
    {
     "data": {
      "application/vnd.jupyter.widget-view+json": {
       "model_id": "08ae7abba2c94b0ea6839c7c60f6157b",
       "version_major": 2,
       "version_minor": 0
      },
      "text/plain": [
       "VBox(children=(Label(value='Waiting for wandb.init()...\\r'), FloatProgress(value=0.016668280602122346, max=1.0…"
      ]
     },
     "metadata": {},
     "output_type": "display_data"
    },
    {
     "data": {
      "text/html": [
       "Tracking run with wandb version 0.13.10"
      ],
      "text/plain": [
       "<IPython.core.display.HTML object>"
      ]
     },
     "metadata": {},
     "output_type": "display_data"
    },
    {
     "data": {
      "text/html": [
       "Run data is saved locally in <code>/home/dwl2x/Research/Seminar/wandb/run-20230214_073434-smyc32jv</code>"
      ],
      "text/plain": [
       "<IPython.core.display.HTML object>"
      ]
     },
     "metadata": {},
     "output_type": "display_data"
    },
    {
     "data": {
      "text/html": [
       "Syncing run <strong><a href='https://wandb.ai/dwl2x/log_tests/runs/smyc32jv' target=\"_blank\">committed-crush-8</a></strong> to <a href='https://wandb.ai/dwl2x/log_tests' target=\"_blank\">Weights & Biases</a> (<a href='https://wandb.me/run' target=\"_blank\">docs</a>)<br/>"
      ],
      "text/plain": [
       "<IPython.core.display.HTML object>"
      ]
     },
     "metadata": {},
     "output_type": "display_data"
    },
    {
     "data": {
      "text/html": [
       " View project at <a href='https://wandb.ai/dwl2x/log_tests' target=\"_blank\">https://wandb.ai/dwl2x/log_tests</a>"
      ],
      "text/plain": [
       "<IPython.core.display.HTML object>"
      ]
     },
     "metadata": {},
     "output_type": "display_data"
    },
    {
     "data": {
      "text/html": [
       " View run at <a href='https://wandb.ai/dwl2x/log_tests/runs/smyc32jv' target=\"_blank\">https://wandb.ai/dwl2x/log_tests/runs/smyc32jv</a>"
      ],
      "text/plain": [
       "<IPython.core.display.HTML object>"
      ]
     },
     "metadata": {},
     "output_type": "display_data"
    }
   ],
   "source": [
    "run = wandb.init(project=\"log_tests\")"
   ]
  },
  {
   "cell_type": "code",
   "execution_count": 106,
   "id": "c5cb180d-7292-4375-b4a5-f438f5a03459",
   "metadata": {},
   "outputs": [],
   "source": [
    "# one log step\n",
    "run.log({\n",
    "    \"some_metric\": 1.0,\n",
    "    \"epoch\": 1\n",
    "})"
   ]
  },
  {
   "cell_type": "code",
   "execution_count": 107,
   "id": "6f8826cf-5f3e-4e82-86f5-b48099794adf",
   "metadata": {},
   "outputs": [],
   "source": [
    "# second log step\n",
    "run.log({\n",
    "    \"some_metric\": 1.2,\n",
    "    \"epoch\": 2\n",
    "})"
   ]
  },
  {
   "cell_type": "code",
   "execution_count": 108,
   "id": "3efd787d-2dc5-42f6-870a-87a735c0ec15",
   "metadata": {},
   "outputs": [],
   "source": [
    "# third log step...\n",
    "run.log({\n",
    "    \"some_metric\": 1.2,\n",
    "    \"epoch\": 3\n",
    "})"
   ]
  },
  {
   "cell_type": "code",
   "execution_count": null,
   "id": "e6ca0e6b-5054-4d55-91a0-77d089f0f231",
   "metadata": {},
   "outputs": [],
   "source": [
    "run.finish()"
   ]
  },
  {
   "cell_type": "markdown",
   "id": "9dcabbd6-80db-452d-ae09-36a76145637f",
   "metadata": {},
   "source": [
    "---\n",
    "## Pandas Dataframes"
   ]
  },
  {
   "cell_type": "code",
   "execution_count": 70,
   "id": "3d944ba9-da4c-43af-b160-2a40bbccb299",
   "metadata": {},
   "outputs": [
    {
     "data": {
      "text/html": [
       "Finishing last run (ID:qdu0fx3q) before initializing another..."
      ],
      "text/plain": [
       "<IPython.core.display.HTML object>"
      ]
     },
     "metadata": {},
     "output_type": "display_data"
    },
    {
     "data": {
      "text/html": [
       "Waiting for W&B process to finish... <strong style=\"color:green\">(success).</strong>"
      ],
      "text/plain": [
       "<IPython.core.display.HTML object>"
      ]
     },
     "metadata": {},
     "output_type": "display_data"
    },
    {
     "data": {
      "application/vnd.jupyter.widget-view+json": {
       "model_id": "f2559df09e834a03a30fa667df657ceb",
       "version_major": 2,
       "version_minor": 0
      },
      "text/plain": [
       "VBox(children=(Label(value='0.025 MB of 0.054 MB uploaded (0.000 MB deduped)\\r'), FloatProgress(value=0.470063…"
      ]
     },
     "metadata": {},
     "output_type": "display_data"
    },
    {
     "data": {
      "text/html": [
       " View run <strong style=\"color:#cdcd00\">exquisite-candy-heart-4</strong> at: <a href='https://wandb.ai/dwl2x/log_tests/runs/qdu0fx3q' target=\"_blank\">https://wandb.ai/dwl2x/log_tests/runs/qdu0fx3q</a><br/>Synced 6 W&B file(s), 2 media file(s), 1 artifact file(s) and 0 other file(s)"
      ],
      "text/plain": [
       "<IPython.core.display.HTML object>"
      ]
     },
     "metadata": {},
     "output_type": "display_data"
    },
    {
     "data": {
      "text/html": [
       "Find logs at: <code>./wandb/run-20230214_065113-qdu0fx3q/logs</code>"
      ],
      "text/plain": [
       "<IPython.core.display.HTML object>"
      ]
     },
     "metadata": {},
     "output_type": "display_data"
    },
    {
     "data": {
      "text/html": [
       "Successfully finished last run (ID:qdu0fx3q). Initializing new run:<br/>"
      ],
      "text/plain": [
       "<IPython.core.display.HTML object>"
      ]
     },
     "metadata": {},
     "output_type": "display_data"
    },
    {
     "data": {
      "application/vnd.jupyter.widget-view+json": {
       "model_id": "d43fa539ab814e82ab728a9bdd49c934",
       "version_major": 2,
       "version_minor": 0
      },
      "text/plain": [
       "VBox(children=(Label(value='Waiting for wandb.init()...\\r'), FloatProgress(value=0.01666887168151637, max=1.0)…"
      ]
     },
     "metadata": {},
     "output_type": "display_data"
    },
    {
     "data": {
      "text/html": [
       "Tracking run with wandb version 0.13.10"
      ],
      "text/plain": [
       "<IPython.core.display.HTML object>"
      ]
     },
     "metadata": {},
     "output_type": "display_data"
    },
    {
     "data": {
      "text/html": [
       "Run data is saved locally in <code>/home/dwl2x/Research/Seminar/wandb/run-20230214_070205-dj2cpkvm</code>"
      ],
      "text/plain": [
       "<IPython.core.display.HTML object>"
      ]
     },
     "metadata": {},
     "output_type": "display_data"
    },
    {
     "data": {
      "text/html": [
       "Syncing run <strong><a href='https://wandb.ai/dwl2x/log_tests/runs/dj2cpkvm' target=\"_blank\">enthusiastic-valentine-5</a></strong> to <a href='https://wandb.ai/dwl2x/log_tests' target=\"_blank\">Weights & Biases</a> (<a href='https://wandb.me/run' target=\"_blank\">docs</a>)<br/>"
      ],
      "text/plain": [
       "<IPython.core.display.HTML object>"
      ]
     },
     "metadata": {},
     "output_type": "display_data"
    },
    {
     "data": {
      "text/html": [
       " View project at <a href='https://wandb.ai/dwl2x/log_tests' target=\"_blank\">https://wandb.ai/dwl2x/log_tests</a>"
      ],
      "text/plain": [
       "<IPython.core.display.HTML object>"
      ]
     },
     "metadata": {},
     "output_type": "display_data"
    },
    {
     "data": {
      "text/html": [
       " View run at <a href='https://wandb.ai/dwl2x/log_tests/runs/dj2cpkvm' target=\"_blank\">https://wandb.ai/dwl2x/log_tests/runs/dj2cpkvm</a>"
      ],
      "text/plain": [
       "<IPython.core.display.HTML object>"
      ]
     },
     "metadata": {},
     "output_type": "display_data"
    }
   ],
   "source": [
    "run = wandb.init(project=\"log_tests\")"
   ]
  },
  {
   "cell_type": "markdown",
   "id": "e43ad5d0-d9ef-4348-8156-179a8884b381",
   "metadata": {},
   "source": [
    "Generate some initial values for our table to log."
   ]
  },
  {
   "cell_type": "code",
   "execution_count": 71,
   "id": "87513ddd-8715-4b9e-9f03-575d45bd3296",
   "metadata": {},
   "outputs": [
    {
     "data": {
      "text/html": [
       "<div>\n",
       "<style scoped>\n",
       "    .dataframe tbody tr th:only-of-type {\n",
       "        vertical-align: middle;\n",
       "    }\n",
       "\n",
       "    .dataframe tbody tr th {\n",
       "        vertical-align: top;\n",
       "    }\n",
       "\n",
       "    .dataframe thead th {\n",
       "        text-align: right;\n",
       "    }\n",
       "</style>\n",
       "<table border=\"1\" class=\"dataframe\">\n",
       "  <thead>\n",
       "    <tr style=\"text-align: right;\">\n",
       "      <th></th>\n",
       "      <th>A</th>\n",
       "      <th>B</th>\n",
       "      <th>C</th>\n",
       "    </tr>\n",
       "  </thead>\n",
       "  <tbody>\n",
       "    <tr>\n",
       "      <th>0</th>\n",
       "      <td>-1.575801</td>\n",
       "      <td>1.091276</td>\n",
       "      <td>0.039952</td>\n",
       "    </tr>\n",
       "  </tbody>\n",
       "</table>\n",
       "</div>"
      ],
      "text/plain": [
       "          A         B         C\n",
       "0 -1.575801  1.091276  0.039952"
      ]
     },
     "execution_count": 71,
     "metadata": {},
     "output_type": "execute_result"
    }
   ],
   "source": [
    "data = pd.DataFrame(np.random.normal(size=(1,3)), columns=[\"A\", \"B\", \"C\"])\n",
    "data"
   ]
  },
  {
   "cell_type": "code",
   "execution_count": 76,
   "id": "2a6fd7db-1cd4-4a04-a10d-98364ac9dab8",
   "metadata": {},
   "outputs": [
    {
     "data": {
      "text/html": [
       "<div>\n",
       "<style scoped>\n",
       "    .dataframe tbody tr th:only-of-type {\n",
       "        vertical-align: middle;\n",
       "    }\n",
       "\n",
       "    .dataframe tbody tr th {\n",
       "        vertical-align: top;\n",
       "    }\n",
       "\n",
       "    .dataframe thead th {\n",
       "        text-align: right;\n",
       "    }\n",
       "</style>\n",
       "<table border=\"1\" class=\"dataframe\">\n",
       "  <thead>\n",
       "    <tr style=\"text-align: right;\">\n",
       "      <th></th>\n",
       "      <th>A</th>\n",
       "      <th>B</th>\n",
       "      <th>C</th>\n",
       "    </tr>\n",
       "  </thead>\n",
       "  <tbody>\n",
       "    <tr>\n",
       "      <th>0</th>\n",
       "      <td>-1.575801</td>\n",
       "      <td>1.091276</td>\n",
       "      <td>0.039952</td>\n",
       "    </tr>\n",
       "    <tr>\n",
       "      <th>1</th>\n",
       "      <td>-1.017917</td>\n",
       "      <td>-1.427977</td>\n",
       "      <td>2.923053</td>\n",
       "    </tr>\n",
       "    <tr>\n",
       "      <th>2</th>\n",
       "      <td>-0.242906</td>\n",
       "      <td>1.350919</td>\n",
       "      <td>0.794101</td>\n",
       "    </tr>\n",
       "    <tr>\n",
       "      <th>3</th>\n",
       "      <td>-0.727712</td>\n",
       "      <td>-1.753907</td>\n",
       "      <td>0.422733</td>\n",
       "    </tr>\n",
       "  </tbody>\n",
       "</table>\n",
       "</div>"
      ],
      "text/plain": [
       "          A         B         C\n",
       "0 -1.575801  1.091276  0.039952\n",
       "1 -1.017917 -1.427977  2.923053\n",
       "2 -0.242906  1.350919  0.794101\n",
       "3 -0.727712 -1.753907  0.422733"
      ]
     },
     "execution_count": 76,
     "metadata": {},
     "output_type": "execute_result"
    }
   ],
   "source": [
    "# Append a row to the data\n",
    "data.loc[len(data)] = np.random.normal(size=(3))\n",
    "data"
   ]
  },
  {
   "cell_type": "markdown",
   "id": "bda9fc38-aa24-4ca5-8ed0-4b68a1c71100",
   "metadata": {},
   "source": [
    "Log a step"
   ]
  },
  {
   "cell_type": "code",
   "execution_count": 77,
   "id": "df430088-d5e1-429e-9454-741b878b4d73",
   "metadata": {},
   "outputs": [],
   "source": [
    "run.log({\"normal_data\": data})"
   ]
  },
  {
   "cell_type": "code",
   "execution_count": 78,
   "id": "7c0aae84-928a-42c6-a5b4-b003b7a25a59",
   "metadata": {},
   "outputs": [
    {
     "data": {
      "text/html": [
       "Waiting for W&B process to finish... <strong style=\"color:green\">(success).</strong>"
      ],
      "text/plain": [
       "<IPython.core.display.HTML object>"
      ]
     },
     "metadata": {},
     "output_type": "display_data"
    },
    {
     "data": {
      "application/vnd.jupyter.widget-view+json": {
       "model_id": "6513a09fc3c74dc19f7b13ea89006a9a",
       "version_major": 2,
       "version_minor": 0
      },
      "text/plain": [
       "VBox(children=(Label(value='0.010 MB of 0.037 MB uploaded (0.000 MB deduped)\\r'), FloatProgress(value=0.264461…"
      ]
     },
     "metadata": {},
     "output_type": "display_data"
    },
    {
     "data": {
      "text/html": [
       " View run <strong style=\"color:#cdcd00\">enthusiastic-valentine-5</strong> at: <a href='https://wandb.ai/dwl2x/log_tests/runs/dj2cpkvm' target=\"_blank\">https://wandb.ai/dwl2x/log_tests/runs/dj2cpkvm</a><br/>Synced 5 W&B file(s), 3 media file(s), 3 artifact file(s) and 0 other file(s)"
      ],
      "text/plain": [
       "<IPython.core.display.HTML object>"
      ]
     },
     "metadata": {},
     "output_type": "display_data"
    },
    {
     "data": {
      "text/html": [
       "Find logs at: <code>./wandb/run-20230214_070205-dj2cpkvm/logs</code>"
      ],
      "text/plain": [
       "<IPython.core.display.HTML object>"
      ]
     },
     "metadata": {},
     "output_type": "display_data"
    }
   ],
   "source": [
    "run.finish()"
   ]
  },
  {
   "cell_type": "markdown",
   "id": "6050c998-187d-4774-a99a-5082d9f3ca0d",
   "metadata": {},
   "source": [
    "---\n",
    "## Matplotlib Plots"
   ]
  },
  {
   "cell_type": "code",
   "execution_count": 110,
   "id": "6fe39f57-0593-4aff-8456-22e7e8de23fe",
   "metadata": {},
   "outputs": [],
   "source": [
    "from scipy.stats import norm"
   ]
  },
  {
   "cell_type": "code",
   "execution_count": 111,
   "id": "f30420dc-f5e5-451b-bf8a-6c9d6b088e88",
   "metadata": {},
   "outputs": [
    {
     "data": {
      "text/html": [
       "Finishing last run (ID:smyc32jv) before initializing another..."
      ],
      "text/plain": [
       "<IPython.core.display.HTML object>"
      ]
     },
     "metadata": {},
     "output_type": "display_data"
    },
    {
     "data": {
      "text/html": [
       "Waiting for W&B process to finish... <strong style=\"color:green\">(success).</strong>"
      ],
      "text/plain": [
       "<IPython.core.display.HTML object>"
      ]
     },
     "metadata": {},
     "output_type": "display_data"
    },
    {
     "data": {
      "text/html": [
       "<style>\n",
       "    table.wandb td:nth-child(1) { padding: 0 10px; text-align: left ; width: auto;} td:nth-child(2) {text-align: left ; width: 100%}\n",
       "    .wandb-row { display: flex; flex-direction: row; flex-wrap: wrap; justify-content: flex-start; width: 100% }\n",
       "    .wandb-col { display: flex; flex-direction: column; flex-basis: 100%; flex: 1; padding: 10px; }\n",
       "    </style>\n",
       "<div class=\"wandb-row\"><div class=\"wandb-col\"><h3>Run history:</h3><br/><table class=\"wandb\"><tr><td>epoch</td><td>▁▅█</td></tr><tr><td>some_metric</td><td>▁██</td></tr></table><br/></div><div class=\"wandb-col\"><h3>Run summary:</h3><br/><table class=\"wandb\"><tr><td>epoch</td><td>3</td></tr><tr><td>some_metric</td><td>1.2</td></tr></table><br/></div></div>"
      ],
      "text/plain": [
       "<IPython.core.display.HTML object>"
      ]
     },
     "metadata": {},
     "output_type": "display_data"
    },
    {
     "data": {
      "text/html": [
       " View run <strong style=\"color:#cdcd00\">committed-crush-8</strong> at: <a href='https://wandb.ai/dwl2x/log_tests/runs/smyc32jv' target=\"_blank\">https://wandb.ai/dwl2x/log_tests/runs/smyc32jv</a><br/>Synced 5 W&B file(s), 0 media file(s), 0 artifact file(s) and 0 other file(s)"
      ],
      "text/plain": [
       "<IPython.core.display.HTML object>"
      ]
     },
     "metadata": {},
     "output_type": "display_data"
    },
    {
     "data": {
      "text/html": [
       "Find logs at: <code>./wandb/run-20230214_073434-smyc32jv/logs</code>"
      ],
      "text/plain": [
       "<IPython.core.display.HTML object>"
      ]
     },
     "metadata": {},
     "output_type": "display_data"
    },
    {
     "data": {
      "text/html": [
       "Successfully finished last run (ID:smyc32jv). Initializing new run:<br/>"
      ],
      "text/plain": [
       "<IPython.core.display.HTML object>"
      ]
     },
     "metadata": {},
     "output_type": "display_data"
    },
    {
     "data": {
      "application/vnd.jupyter.widget-view+json": {
       "model_id": "b31e4e3ffe694e8997a12694d4aa08c1",
       "version_major": 2,
       "version_minor": 0
      },
      "text/plain": [
       "VBox(children=(Label(value='Waiting for wandb.init()...\\r'), FloatProgress(value=0.016668991309901078, max=1.0…"
      ]
     },
     "metadata": {},
     "output_type": "display_data"
    },
    {
     "data": {
      "text/html": [
       "Tracking run with wandb version 0.13.10"
      ],
      "text/plain": [
       "<IPython.core.display.HTML object>"
      ]
     },
     "metadata": {},
     "output_type": "display_data"
    },
    {
     "data": {
      "text/html": [
       "Run data is saved locally in <code>/home/dwl2x/Research/Seminar/wandb/run-20230214_080258-w3liae6i</code>"
      ],
      "text/plain": [
       "<IPython.core.display.HTML object>"
      ]
     },
     "metadata": {},
     "output_type": "display_data"
    },
    {
     "data": {
      "text/html": [
       "Syncing run <strong><a href='https://wandb.ai/dwl2x/log_tests/runs/w3liae6i' target=\"_blank\">candlelit-romance-9</a></strong> to <a href='https://wandb.ai/dwl2x/log_tests' target=\"_blank\">Weights & Biases</a> (<a href='https://wandb.me/run' target=\"_blank\">docs</a>)<br/>"
      ],
      "text/plain": [
       "<IPython.core.display.HTML object>"
      ]
     },
     "metadata": {},
     "output_type": "display_data"
    },
    {
     "data": {
      "text/html": [
       " View project at <a href='https://wandb.ai/dwl2x/log_tests' target=\"_blank\">https://wandb.ai/dwl2x/log_tests</a>"
      ],
      "text/plain": [
       "<IPython.core.display.HTML object>"
      ]
     },
     "metadata": {},
     "output_type": "display_data"
    },
    {
     "data": {
      "text/html": [
       " View run at <a href='https://wandb.ai/dwl2x/log_tests/runs/w3liae6i' target=\"_blank\">https://wandb.ai/dwl2x/log_tests/runs/w3liae6i</a>"
      ],
      "text/plain": [
       "<IPython.core.display.HTML object>"
      ]
     },
     "metadata": {},
     "output_type": "display_data"
    }
   ],
   "source": [
    "run = wandb.init(project=\"log_tests\")"
   ]
  },
  {
   "cell_type": "markdown",
   "id": "8acbbe25-2175-4d70-8940-4931aa8a9127",
   "metadata": {},
   "source": [
    "Default behavior which converts to Plotly"
   ]
  },
  {
   "cell_type": "code",
   "execution_count": 97,
   "id": "e86738f9-c001-4153-8f81-db0a2e38108b",
   "metadata": {},
   "outputs": [],
   "source": [
    "fig = plt.figure()\n",
    "plt.plot(np.linspace(-5, 5), norm.pdf(np.linspace(-5, 5)))\n",
    "plt.hist(np.random.normal(size=500), bins=50, alpha=0.5, density=True)\n",
    "run.log({ \"normal_dist\": fig })\n",
    "plt.show()"
   ]
  },
  {
   "cell_type": "markdown",
   "id": "6eff413f-2f51-481a-a41a-37d73e4b882f",
   "metadata": {},
   "source": [
    "Save plot image"
   ]
  },
  {
   "cell_type": "code",
   "execution_count": 102,
   "id": "0052a2fb-5389-4316-9c01-5597e39c2da5",
   "metadata": {},
   "outputs": [
    {
     "data": {
      "image/png": "[encoded data removed]",
      "text/plain": [
       "<Figure size 640x480 with 1 Axes>"
      ]
     },
     "metadata": {},
     "output_type": "display_data"
    }
   ],
   "source": [
    "fig = plt.figure()\n",
    "plt.plot(np.linspace(-5, 5), norm.pdf(np.linspace(-5, 5)))\n",
    "plt.hist(np.random.normal(size=500), bins=50, alpha=0.5, density=True)\n",
    "run.log({ \"normal_dist_image\": wandb.Image(fig) })\n",
    "plt.show()"
   ]
  },
  {
   "cell_type": "code",
   "execution_count": null,
   "id": "c67b7413-5b50-4793-8d73-2f62b6a01e7e",
   "metadata": {},
   "outputs": [],
   "source": [
    "run.finish()"
   ]
  }
 ],
 "metadata": {
  "kernelspec": {
   "display_name": "Python 3 (ipykernel)",
   "language": "python",
   "name": "python3"
  },
  "language_info": {
   "codemirror_mode": {
    "name": "ipython",
    "version": 3
   },
   "file_extension": ".py",
   "mimetype": "text/x-python",
   "name": "python",
   "nbconvert_exporter": "python",
   "pygments_lexer": "ipython3",
   "version": "3.10.8"
  }
 },
 "nbformat": 4,
 "nbformat_minor": 5
}
